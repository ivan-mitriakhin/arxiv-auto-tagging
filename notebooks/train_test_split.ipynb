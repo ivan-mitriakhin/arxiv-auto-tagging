{
 "cells": [
  {
   "cell_type": "code",
   "execution_count": 1,
   "metadata": {},
   "outputs": [],
   "source": [
    "import numpy as np\n",
    "import pandas as pd\n",
    "from sklearn.model_selection import train_test_split"
   ]
  },
  {
   "cell_type": "code",
   "execution_count": 2,
   "metadata": {},
   "outputs": [],
   "source": [
    "data = pd.read_csv('../data/arxiv_data.csv')\n",
    "data_grouped = pd.read_csv('../data/arxiv_data_grouped.csv')"
   ]
  },
  {
   "cell_type": "code",
   "execution_count": 3,
   "metadata": {},
   "outputs": [],
   "source": [
    "train_split, test_split = train_test_split(data, test_size=0.06, random_state=42)\n",
    "grouped_train_split, grouped_test_split = train_test_split(data_grouped, test_size=0.06, random_state=42)"
   ]
  },
  {
   "cell_type": "code",
   "execution_count": 4,
   "metadata": {},
   "outputs": [
    {
     "name": "stdout",
     "output_type": "stream",
     "text": [
      "---------ARXIV DATA TRAIN TEST SPLIT INFO---------\n",
      "\n",
      "<class 'pandas.core.frame.DataFrame'>\n",
      "Index: 504699 entries, 106031 to 121958\n",
      "Columns: 158 entries, ids to stat.TH\n",
      "dtypes: float64(1), int64(155), object(2)\n",
      "memory usage: 612.2+ MB\n"
     ]
    },
    {
     "data": {
      "text/plain": [
       "None"
      ]
     },
     "metadata": {},
     "output_type": "display_data"
    },
    {
     "name": "stdout",
     "output_type": "stream",
     "text": [
      "<class 'pandas.core.frame.DataFrame'>\n",
      "Index: 32215 entries, 233419 to 217071\n",
      "Columns: 158 entries, ids to stat.TH\n",
      "dtypes: float64(1), int64(155), object(2)\n",
      "memory usage: 39.1+ MB\n"
     ]
    },
    {
     "data": {
      "text/plain": [
       "None"
      ]
     },
     "metadata": {},
     "output_type": "display_data"
    }
   ],
   "source": [
    "print('---------ARXIV DATA TRAIN TEST SPLIT INFO---------')\n",
    "print()\n",
    "display(train_split.info())\n",
    "display(test_split.info())"
   ]
  },
  {
   "cell_type": "code",
   "execution_count": 5,
   "metadata": {},
   "outputs": [
    {
     "name": "stdout",
     "output_type": "stream",
     "text": [
      "---------GROUPED ARXIV DATA TRAIN TEST SPLIT INFO---------\n",
      "\n",
      "<class 'pandas.core.frame.DataFrame'>\n",
      "Index: 504699 entries, 106031 to 121958\n",
      "Data columns (total 11 columns):\n",
      " #   Column                                      Non-Null Count   Dtype  \n",
      "---  ------                                      --------------   -----  \n",
      " 0   ids                                         504699 non-null  float64\n",
      " 1   titles                                      504699 non-null  object \n",
      " 2   abstracts                                   504699 non-null  object \n",
      " 3   Computer Science                            504699 non-null  int64  \n",
      " 4   Economics                                   504699 non-null  int64  \n",
      " 5   Electrical Engineering and Systems Science  504699 non-null  int64  \n",
      " 6   Mathematics                                 504699 non-null  int64  \n",
      " 7   Physics                                     504699 non-null  int64  \n",
      " 8   Quantitative Biology                        504699 non-null  int64  \n",
      " 9   Quantitative Finance                        504699 non-null  int64  \n",
      " 10  Statistics                                  504699 non-null  int64  \n",
      "dtypes: float64(1), int64(8), object(2)\n",
      "memory usage: 46.2+ MB\n"
     ]
    },
    {
     "data": {
      "text/plain": [
       "None"
      ]
     },
     "metadata": {},
     "output_type": "display_data"
    },
    {
     "name": "stdout",
     "output_type": "stream",
     "text": [
      "<class 'pandas.core.frame.DataFrame'>\n",
      "Index: 32215 entries, 233419 to 217071\n",
      "Data columns (total 11 columns):\n",
      " #   Column                                      Non-Null Count  Dtype  \n",
      "---  ------                                      --------------  -----  \n",
      " 0   ids                                         32215 non-null  float64\n",
      " 1   titles                                      32215 non-null  object \n",
      " 2   abstracts                                   32215 non-null  object \n",
      " 3   Computer Science                            32215 non-null  int64  \n",
      " 4   Economics                                   32215 non-null  int64  \n",
      " 5   Electrical Engineering and Systems Science  32215 non-null  int64  \n",
      " 6   Mathematics                                 32215 non-null  int64  \n",
      " 7   Physics                                     32215 non-null  int64  \n",
      " 8   Quantitative Biology                        32215 non-null  int64  \n",
      " 9   Quantitative Finance                        32215 non-null  int64  \n",
      " 10  Statistics                                  32215 non-null  int64  \n",
      "dtypes: float64(1), int64(8), object(2)\n",
      "memory usage: 2.9+ MB\n"
     ]
    },
    {
     "data": {
      "text/plain": [
       "None"
      ]
     },
     "metadata": {},
     "output_type": "display_data"
    }
   ],
   "source": [
    "print('---------GROUPED ARXIV DATA TRAIN TEST SPLIT INFO---------')\n",
    "print()\n",
    "display(grouped_train_split.info())\n",
    "display(grouped_test_split.info())"
   ]
  },
  {
   "cell_type": "code",
   "execution_count": 12,
   "metadata": {},
   "outputs": [],
   "source": [
    "train_split.to_csv('../data/train/train_data.csv', index=False)\n",
    "grouped_train_split.to_csv('../data/train/grouped_train_data.csv', index=False)\n",
    "test_split.to_csv('../data/test/test_data.csv', index=False)\n",
    "grouped_test_split.to_csv('../data/test/grouped_test_data.csv', index=False)"
   ]
  }
 ],
 "metadata": {
  "kernelspec": {
   "display_name": "base",
   "language": "python",
   "name": "python3"
  },
  "language_info": {
   "codemirror_mode": {
    "name": "ipython",
    "version": 3
   },
   "file_extension": ".py",
   "mimetype": "text/x-python",
   "name": "python",
   "nbconvert_exporter": "python",
   "pygments_lexer": "ipython3",
   "version": "3.11.7"
  }
 },
 "nbformat": 4,
 "nbformat_minor": 2
}
