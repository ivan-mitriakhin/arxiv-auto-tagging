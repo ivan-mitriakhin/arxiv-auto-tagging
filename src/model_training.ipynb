{
 "cells": [
  {
   "cell_type": "code",
   "execution_count": null,
   "metadata": {},
   "outputs": [],
   "source": [
    "!pip install protobuf\n",
    "!pip install torcheval"
   ]
  },
  {
   "cell_type": "code",
   "execution_count": null,
   "metadata": {},
   "outputs": [],
   "source": [
    "import numpy as np\n",
    "import pandas as pd\n",
    "import torch\n",
    "from transformers import AutoModel, AutoTokenizer\n",
    "from torch.utils.data import DataLoader\n",
    "from pathlib import Path\n",
    "\n",
    "PATH = '../data/'\n",
    "data_root = Path(PATH)\n",
    "\n",
    "import sys\n",
    "sys.path.insert(1, PATH)\n",
    "\n",
    "from model import MultilabelModel\n",
    "from dataset import AbstractsDataset\n",
    "from trainer import Trainer\n",
    "\n",
    "MODEL = 'microsoft/deberta-v3-base'\n",
    "MAX_SEQ_LEN = 230\n",
    "BATCH_SIZE = 64\n",
    "N_CLASSES = 155"
   ]
  },
  {
   "cell_type": "markdown",
   "metadata": {},
   "source": [
    "# Initialize data"
   ]
  },
  {
   "cell_type": "code",
   "execution_count": null,
   "metadata": {},
   "outputs": [],
   "source": [
    "train_data = pd.read_csv(data_root / 'train/train_data.csv')\n",
    "test_data = pd.read_csv(data_root / 'test/test_data.csv')"
   ]
  },
  {
   "cell_type": "code",
   "execution_count": null,
   "metadata": {},
   "outputs": [],
   "source": [
    "tokenizer = AutoTokenizer.from_pretrained(MODEL)\n",
    "train_dataset = AbstractsDataset(train_data, tokenizer, MAX_SEQ_LEN)\n",
    "test_dataset = AbstractsDataset(test_data, tokenizer, MAX_SEQ_LEN)"
   ]
  },
  {
   "cell_type": "code",
   "execution_count": null,
   "metadata": {},
   "outputs": [],
   "source": [
    "train_params = {\n",
    "    'batch_size': BATCH_SIZE,\n",
    "    'shuffle': True,\n",
    "    'num_workers': 0\n",
    "}\n",
    "test_params = {\n",
    "    'batch_size': BATCH_SIZE,\n",
    "    'shuffle': False,\n",
    "    'num_workers': 0\n",
    "}\n",
    "\n",
    "train_dataloader = DataLoader(train_dataset, **train_params)\n",
    "test_dataloader = DataLoader(test_dataset, **test_params)"
   ]
  },
  {
   "cell_type": "markdown",
   "metadata": {},
   "source": [
    "# Loading & fitting pretrained model"
   ]
  },
  {
   "cell_type": "code",
   "execution_count": null,
   "metadata": {},
   "outputs": [],
   "source": [
    "config = {\n",
    "    \"n_classes\": N_CLASSES,\n",
    "    \"dropout_rate\": 0.1\n",
    "}\n",
    "\n",
    "model = MultilabelModel(\n",
    "    MODEL,\n",
    "    config=config\n",
    ")\n",
    "\n",
    "trainer_config = {\n",
    "    \"lr\": 1e-5,\n",
    "    \"n_epochs\": 18,\n",
    "    \"batch_size\": BATCH_SIZE,\n",
    "    \"device\": \"cuda\" if torch.cuda.is_available() else \"cpu\",\n",
    "    \"seed\": 42,\n",
    "}\n",
    "\n",
    "t = Trainer(trainer_config)\n",
    "t.fit(model, train_dataloader, test_dataloader)"
   ]
  }
 ],
 "metadata": {
  "kernelspec": {
   "display_name": "base",
   "language": "python",
   "name": "python3"
  },
  "language_info": {
   "codemirror_mode": {
    "name": "ipython",
    "version": 3
   },
   "file_extension": ".py",
   "mimetype": "text/x-python",
   "name": "python",
   "nbconvert_exporter": "python",
   "pygments_lexer": "ipython3",
   "version": "3.11.7"
  }
 },
 "nbformat": 4,
 "nbformat_minor": 2
}
